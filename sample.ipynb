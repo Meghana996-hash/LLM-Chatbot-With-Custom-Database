{
 "cells": [
  {
   "cell_type": "code",
   "execution_count": 2,
   "metadata": {},
   "outputs": [],
   "source": [
    "import chromadb as crd"
   ]
  },
  {
   "cell_type": "code",
   "execution_count": 31,
   "metadata": {},
   "outputs": [],
   "source": [
    "client = crd.PersistentClient(\"examples\")\n",
    "collection = client.create_collection(\"sample_queries\")"
   ]
  },
  {
   "cell_type": "code",
   "execution_count": 38,
   "metadata": {},
   "outputs": [],
   "source": [
    "collection = client.get_collection(\"sample_queries\")"
   ]
  },
  {
   "cell_type": "code",
   "execution_count": 39,
   "metadata": {},
   "outputs": [],
   "source": [
    "import json\n",
    "\n",
    "with open(\"example.json\",'r') as f:\n",
    "    # print(f.read())\n",
    "    \n",
    "    examples = json.load(f)"
   ]
  },
  {
   "cell_type": "code",
   "execution_count": 40,
   "metadata": {},
   "outputs": [
    {
     "data": {
      "text/plain": [
       "{'example_pairs': [{'nl_query': 'Calculate the total sales per country for Motorcycles.',\n",
       "   'sql_query': \"SELECT COUNTRY, SUM(SALES) AS Total_Sales FROM Sales WHERE PRODUCTLINE = 'Motorcycles' GROUP BY COUNTRY ORDER BY Total_Sales DESC;\"},\n",
       "  {'nl_query': 'Find the average price each per quarter for the year 2003.',\n",
       "   'sql_query': 'SELECT QTR_ID, AVG(PRICEEACH) AS Avg_PriceEach FROM Sales WHERE YEAR_ID = 2003 GROUP BY QTR_ID ORDER BY QTR_ID;'},\n",
       "  {'nl_query': 'Find orders with sales above the average sales.',\n",
       "   'sql_query': 'SELECT ORDERNUMBER, SUM(SALES) FROM Sales WHERE SALES > (SELECT AVG(SALES) FROM Sales) GROUP BY ORDERNUMBER ORDER BY SALES DESC;'},\n",
       "  {'nl_query': 'Retrieve orders along with contact information for the Motorcycles product line.',\n",
       "   'sql_query': \"SELECT ORDERNUMBER, QUANTITYORDERED, PRICEEACH, SALES, ORDERDATE, CONTACTLASTNAME, CONTACTFIRSTNAME, PHONE, ADDRESSLINE1, CITY, STATE, POSTALCODE, COUNTRY FROM Sales WHERE PRODUCTLINE = 'Motorcycles' ORDER BY ORDERDATE;\"},\n",
       "  {'nl_query': 'Find the most expensive order for each customer.',\n",
       "   'sql_query': 'WITH CustomerOrders AS (SELECT CONTACTLASTNAME, CONTACTFIRSTNAME, ORDERNUMBER, SALES, ROW_NUMBER() OVER (PARTITION BY CONTACTLASTNAME, CONTACTFIRSTNAME ORDER BY SALES DESC) AS RowNum FROM Sales) SELECT CONTACTLASTNAME, CONTACTFIRSTNAME, ORDERNUMBER, SALES FROM CustomerOrders WHERE RowNum = 1 ORDER BY SALES DESC;'},\n",
       "  {'nl_query': 'Calculate the total quantity ordered by city.',\n",
       "   'sql_query': 'SELECT CITY, SUM(QUANTITYORDERED) AS Total_Quantity FROM Sales GROUP BY CITY ORDER BY Total_Quantity DESC;'},\n",
       "  {'nl_query': 'Find orders placed between May 1, 2003, and August 31, 2003.',\n",
       "   'sql_query': \"SELECT ORDERNUMBER, QUANTITYORDERED, PRICEEACH, SALES, ORDERDATE, CONTACTLASTNAME, CONTACTFIRSTNAME FROM Sales WHERE ORDERDATE BETWEEN '2003-05-01' AND '2003-08-31' ORDER BY ORDERDATE;\"}]}"
      ]
     },
     "execution_count": 40,
     "metadata": {},
     "output_type": "execute_result"
    }
   ],
   "source": [
    "examples"
   ]
  },
  {
   "cell_type": "code",
   "execution_count": 41,
   "metadata": {},
   "outputs": [
    {
     "name": "stderr",
     "output_type": "stream",
     "text": [
      "Add of existing embedding ID: 0\n",
      "Add of existing embedding ID: 1\n",
      "Add of existing embedding ID: 2\n",
      "Add of existing embedding ID: 3\n",
      "Add of existing embedding ID: 4\n",
      "Add of existing embedding ID: 5\n",
      "Add of existing embedding ID: 6\n",
      "Insert of existing embedding ID: 0\n",
      "Insert of existing embedding ID: 1\n",
      "Insert of existing embedding ID: 2\n",
      "Insert of existing embedding ID: 3\n",
      "Insert of existing embedding ID: 4\n",
      "Insert of existing embedding ID: 5\n",
      "Insert of existing embedding ID: 6\n"
     ]
    }
   ],
   "source": [
    "collection.add(\n",
    "    ids=[str(i) for i in range(0, 7)],\n",
    "    documents=[i['nl_query'] for i in examples['example_pairs']],\n",
    "    # metadatas=[i['sql_query'] for i in examples['example_pairs']]\n",
    "    \n",
    ")"
   ]
  },
  {
   "cell_type": "code",
   "execution_count": 47,
   "metadata": {},
   "outputs": [
    {
     "name": "stderr",
     "output_type": "stream",
     "text": [
      "Add of existing embedding ID: 1\n",
      "Insert of existing embedding ID: 1\n"
     ]
    }
   ],
   "source": [
    "collection.add(ids='1',documents=\"What is the best offer?\")"
   ]
  },
  {
   "cell_type": "code",
   "execution_count": 50,
   "metadata": {},
   "outputs": [],
   "source": [
    "res = collection.query(query_texts=\"average price per quarter?\", n_results=1)"
   ]
  },
  {
   "cell_type": "code",
   "execution_count": 52,
   "metadata": {},
   "outputs": [
    {
     "data": {
      "text/plain": [
       "{'ids': ['0', '1', '2', '3', '4', '5', '6'],\n",
       " 'embeddings': None,\n",
       " 'metadatas': [None, None, None, None, None, None, None],\n",
       " 'documents': ['Calculate the total sales per country for Motorcycles.',\n",
       "  'Find the average price each per quarter for the year 2003.',\n",
       "  'Find orders with sales above the average sales.',\n",
       "  'Retrieve orders along with contact information for the Motorcycles product line.',\n",
       "  'Find the most expensive order for each customer.',\n",
       "  'Calculate the total quantity ordered by city.',\n",
       "  'Find orders placed between May 1, 2003, and August 31, 2003.'],\n",
       " 'uris': None,\n",
       " 'data': None}"
      ]
     },
     "execution_count": 52,
     "metadata": {},
     "output_type": "execute_result"
    }
   ],
   "source": [
    "collection.get()"
   ]
  },
  {
   "cell_type": "code",
   "execution_count": 51,
   "metadata": {},
   "outputs": [
    {
     "data": {
      "text/plain": [
       "{'ids': [['1']],\n",
       " 'distances': [[0.5145776919043319]],\n",
       " 'metadatas': [[None]],\n",
       " 'embeddings': None,\n",
       " 'documents': [['Find the average price each per quarter for the year 2003.']],\n",
       " 'uris': None,\n",
       " 'data': None}"
      ]
     },
     "execution_count": 51,
     "metadata": {},
     "output_type": "execute_result"
    }
   ],
   "source": [
    "res"
   ]
  },
  {
   "cell_type": "code",
   "execution_count": 54,
   "metadata": {},
   "outputs": [
    {
     "data": {
      "text/plain": [
       "[{'nl_query': 'Calculate the total sales per country for Motorcycles.',\n",
       "  'sql_query': \"SELECT COUNTRY, SUM(SALES) AS Total_Sales FROM Sales WHERE PRODUCTLINE = 'Motorcycles' GROUP BY COUNTRY ORDER BY Total_Sales DESC;\"},\n",
       " {'nl_query': 'Find the average price each per quarter for the year 2003.',\n",
       "  'sql_query': 'SELECT QTR_ID, AVG(PRICEEACH) AS Avg_PriceEach FROM Sales WHERE YEAR_ID = 2003 GROUP BY QTR_ID ORDER BY QTR_ID;'},\n",
       " {'nl_query': 'Find orders with sales above the average sales.',\n",
       "  'sql_query': 'SELECT ORDERNUMBER, SUM(SALES) FROM Sales WHERE SALES > (SELECT AVG(SALES) FROM Sales) GROUP BY ORDERNUMBER ORDER BY SALES DESC;'},\n",
       " {'nl_query': 'Retrieve orders along with contact information for the Motorcycles product line.',\n",
       "  'sql_query': \"SELECT ORDERNUMBER, QUANTITYORDERED, PRICEEACH, SALES, ORDERDATE, CONTACTLASTNAME, CONTACTFIRSTNAME, PHONE, ADDRESSLINE1, CITY, STATE, POSTALCODE, COUNTRY FROM Sales WHERE PRODUCTLINE = 'Motorcycles' ORDER BY ORDERDATE;\"},\n",
       " {'nl_query': 'Find the most expensive order for each customer.',\n",
       "  'sql_query': 'WITH CustomerOrders AS (SELECT CONTACTLASTNAME, CONTACTFIRSTNAME, ORDERNUMBER, SALES, ROW_NUMBER() OVER (PARTITION BY CONTACTLASTNAME, CONTACTFIRSTNAME ORDER BY SALES DESC) AS RowNum FROM Sales) SELECT CONTACTLASTNAME, CONTACTFIRSTNAME, ORDERNUMBER, SALES FROM CustomerOrders WHERE RowNum = 1 ORDER BY SALES DESC;'},\n",
       " {'nl_query': 'Calculate the total quantity ordered by city.',\n",
       "  'sql_query': 'SELECT CITY, SUM(QUANTITYORDERED) AS Total_Quantity FROM Sales GROUP BY CITY ORDER BY Total_Quantity DESC;'},\n",
       " {'nl_query': 'Find orders placed between May 1, 2003, and August 31, 2003.',\n",
       "  'sql_query': \"SELECT ORDERNUMBER, QUANTITYORDERED, PRICEEACH, SALES, ORDERDATE, CONTACTLASTNAME, CONTACTFIRSTNAME FROM Sales WHERE ORDERDATE BETWEEN '2003-05-01' AND '2003-08-31' ORDER BY ORDERDATE;\"}]"
      ]
     },
     "execution_count": 54,
     "metadata": {},
     "output_type": "execute_result"
    }
   ],
   "source": [
    "examples['example_pairs'].append()"
   ]
  },
  {
   "cell_type": "code",
   "execution_count": 45,
   "metadata": {},
   "outputs": [
    {
     "data": {
      "text/plain": [
       "'Calculate the total quantity ordered by city.'"
      ]
     },
     "execution_count": 45,
     "metadata": {},
     "output_type": "execute_result"
    }
   ],
   "source": [
    "res['documents'][0][0]"
   ]
  },
  {
   "cell_type": "code",
   "execution_count": 44,
   "metadata": {},
   "outputs": [
    {
     "data": {
      "text/plain": [
       "'SELECT CITY, SUM(QUANTITYORDERED) AS Total_Quantity FROM Sales GROUP BY CITY ORDER BY Total_Quantity DESC;'"
      ]
     },
     "execution_count": 44,
     "metadata": {},
     "output_type": "execute_result"
    }
   ],
   "source": [
    "examples['example_pairs'][int(res['ids'][0][0])]['sql_query']"
   ]
  },
  {
   "cell_type": "code",
   "execution_count": null,
   "metadata": {},
   "outputs": [],
   "source": []
  }
 ],
 "metadata": {
  "kernelspec": {
   "display_name": "llmchatbot",
   "language": "python",
   "name": "python3"
  },
  "language_info": {
   "codemirror_mode": {
    "name": "ipython",
    "version": 3
   },
   "file_extension": ".py",
   "mimetype": "text/x-python",
   "name": "python",
   "nbconvert_exporter": "python",
   "pygments_lexer": "ipython3",
   "version": "3.11.5"
  }
 },
 "nbformat": 4,
 "nbformat_minor": 2
}
